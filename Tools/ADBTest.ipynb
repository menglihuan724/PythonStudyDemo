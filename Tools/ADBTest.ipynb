{
 "cells": [
  {
   "cell_type": "code",
   "execution_count": 28,
   "metadata": {},
   "outputs": [
    {
     "name": "stdout",
     "output_type": "stream",
     "text": [
      "adb shell input tap 1511 555\n",
      "[]\n",
      "adb shell input tap 1521 700\n",
      "[]\n",
      "adb shell input tap 1396 744\n",
      "[]\n",
      "adb shell input tap 1801 1145\n",
      "[]\n"
     ]
    }
   ],
   "source": [
    "# coding:utf-8\n",
    "import os\n",
    "\n",
    "adbShell = \"adb shell {cmdStr}\"\n",
    "\n",
    "\n",
    "def execute(cmd):\n",
    "    str = adbShell.format(cmdStr=cmd)\n",
    "    print(str)\n",
    "    with os.popen(str) as res:\n",
    "        print(res.readlines())\n",
    "    \n",
    "\n",
    "\n",
    "if __name__ == '__main__':\n",
    "#     os.system(\"adb devices\")\n",
    "    # 点击返回按键\n",
    "    # os.system(\" adb shell input keyevent 4 \")\n",
    "    # 点击\n",
    "    execute(\"input tap 1511 555\")\n",
    "    execute(\"input tap 1521 700\")\n",
    "    execute(\"input tap 1396 744\")\n",
    "    execute(\"input tap 1801 1145\")\n"
   ]
  },
  {
   "cell_type": "code",
   "execution_count": null,
   "metadata": {},
   "outputs": [],
   "source": []
  }
 ],
 "metadata": {
  "kernelspec": {
   "display_name": "Python 3",
   "language": "python",
   "name": "python3"
  },
  "language_info": {
   "codemirror_mode": {
    "name": "ipython",
    "version": 3
   },
   "file_extension": ".py",
   "mimetype": "text/x-python",
   "name": "python",
   "nbconvert_exporter": "python",
   "pygments_lexer": "ipython3",
   "version": "3.7.4"
  }
 },
 "nbformat": 4,
 "nbformat_minor": 4
}
